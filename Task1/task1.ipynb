{
 "cells": [
  {
   "cell_type": "code",
   "execution_count": null,
   "metadata": {},
   "outputs": [],
   "source": [
    "DATA_DIR = \"./BBC/\""
   ]
  },
  {
   "cell_type": "code",
   "execution_count": null,
   "metadata": {},
   "outputs": [],
   "source": [
    "%matplotlib inline\n",
    "import numpy as np\n",
    "import pandas as pd\n",
    "import matplotlib.pyplot as plt\n",
    "import sys\n",
    "from sklearn.datasets import load_files\n",
    "from sklearn.feature_extraction.text import CountVectorizer\n",
    "from sklearn.model_selection import train_test_split\n",
    "from sklearn.naive_bayes import MultinomialNB\n",
    "from sklearn.metrics import confusion_matrix, accuracy_score, classification_report, f1_score "
   ]
  },
  {
   "cell_type": "code",
   "execution_count": null,
   "metadata": {},
   "outputs": [],
   "source": [
    "data = load_files(DATA_DIR, encoding=\"latin1\", decode_error=\"replace\")"
   ]
  },
  {
   "cell_type": "code",
   "execution_count": null,
   "metadata": {},
   "outputs": [],
   "source": [
    "labels, counts = np.unique(data.target, return_counts=True)\n",
    "class_dict = dict(zip(np.array(data.target_names)[labels], counts))\n",
    "\n",
    "plt.title(\"Distribution of BBC Dataset\")\n",
    "plt.xlabel(\"classes\")\n",
    "plt.ylabel(\"number of instances\")\n",
    "plt.bar([1,2,3,4,5], counts)\n",
    "\n",
    "plt.savefig(\"BBC-distribution.pdf\")"
   ]
  },
  {
   "cell_type": "code",
   "execution_count": null,
   "metadata": {},
   "outputs": [],
   "source": [
    "vectorizer = CountVectorizer(stop_words=\"english\", decode_error=\"ignore\")\n",
    "term_matrix = vectorizer.fit_transform(data[\"data\"])\n",
    "term_array = term_matrix.toarray()\n",
    "\n",
    "df = pd.DataFrame(data=term_array, columns=vectorizer.get_feature_names())\n"
   ]
  },
  {
   "cell_type": "code",
   "execution_count": null,
   "metadata": {},
   "outputs": [],
   "source": [
    "x_train, x_test, y_train, y_test = train_test_split(data.data, data.target, train_size=0.8, test_size=0.2, random_state=None)"
   ]
  },
  {
   "cell_type": "code",
   "execution_count": null,
   "metadata": {},
   "outputs": [],
   "source": [
    "\n",
    "result_file = open(\"bbc-performance.txt\", \"a\")\n",
    "result_file.truncate(0)\n",
    "def Write(text):\n",
    "    try:\n",
    "        result_file.write(text)\n",
    "    except Exception as e:\n",
    "        print(\"ERROR occurred when writing to file.\")\n",
    "        print(e)\n",
    "        sys.exit()\n"
   ]
  },
  {
   "cell_type": "code",
   "execution_count": null,
   "metadata": {},
   "outputs": [],
   "source": [
    "def Test(test_num, x_train, x_test, y_train, y_test, smoothing):\n",
    "    vectorizer = CountVectorizer(stop_words=\"english\", decode_error=\"ignore\")\n",
    "    term_matrix = vectorizer.fit_transform(data[\"data\"])\n",
    "    term_array = term_matrix.toarray()\n",
    "    total_size = len(term_array)\n",
    "\n",
    "    if (smoothing != 0):\n",
    "        classification = MultinomialNB(alpha=smoothing) \n",
    "    else: classification = MultinomialNB()\n",
    "    classification.fit(vectorizer.transform(x_train), y_train)\n",
    "\n",
    "    y_pred = classification.predict(vectorizer.transform(x_test))\n",
    "\n",
    "    if (smoothing !=0):\n",
    "        total_count = classification.feature_count_\n",
    "        classification.feature_count_ = classification.feature_count_ + smoothing \n",
    "        \n",
    "    else: total_count = classification.feature_count_\n",
    "\n",
    "    Write(\"\\n *******************************************************************************************************************  \\n a) \\n MultinomialNB Default values, try \" + str(test_num) +\n",
    "     \"\\n Here is the confusion matrix: \\n b) \\n\" + str(confusion_matrix(y_test, y_pred)) + \"\\n c) \\n Here is the classification report: \\n\" + str(classification_report(y_test, y_pred)) + \"\\n\")\n",
    "    Write(\" d) \\n accuracy: \" + str(accuracy_score(y_test, y_pred)) + \"\\n F1 macro average : \" + str(f1_score(y_test, y_pred, average=\"macro\")) + \"\\n F1 weighted average : \" + str(f1_score(y_test, y_pred, average=\"weighted\")))\n",
    "\n",
    "    Write(\"\\n e)\")\n",
    "    for key, value in class_dict.items():\n",
    "        prior_prob = value/total_size\n",
    "        Write(\"\\n Prior probability of \" + key + \": \" + str(prior_prob))\n",
    "\n",
    "    vocab_size = len(vectorizer.get_feature_names())\n",
    "    Write(\"\\n f) \\nThe size of the vocabulary is: \" + str(vocab_size))\n",
    "\n",
    "    Write(\"\\n g)\")\n",
    "    for i in range(0,len(classification.feature_count_)):\n",
    "        Write(\"\\nNumber of word tokens in the class \" + data.target_names[i] + \": \" + str(classification.feature_count_[i].sum()))\n",
    "        \n",
    "    Write(\"\\n h)\")\n",
    "    total_wt = 0\n",
    "    for i in range(0,len(classification.feature_count_)):\n",
    "       total_wt = total_wt + total_count[i].sum()\n",
    "    total_wt = total_wt + (vocab_size * smoothing)\n",
    "    Write(\"\\nNumber of word tokens in the entire corpus: \" + str(total_wt))\n",
    "\n",
    "    Write(\"\\n i)\")\n",
    "    nb_0 = 0\n",
    "    perc_0 = 0\n",
    "    for i in range(0,len(classification.feature_count_)):\n",
    "        nb_0 = 0\n",
    "        for j in range(0,len(classification.feature_count_[i])):\n",
    "            if classification.feature_count_[i][j] == 0:\n",
    "                nb_0 = nb_0 + 1\n",
    "        perc_0 = (nb_0/classification.feature_count_[i].sum())*100\n",
    "        Write(\"\\nNumber of words with frequency 0 in class \" + data.target_names[i] + \": \" + str(nb_0) + \"\\nPercentage: \" + str(perc_0) + \"%\")\n",
    "    \n",
    "    Write(\"\\n j)\")\n",
    "    nb_1 = 0\n",
    "    perc_1 = 0\n",
    "    for i in range(0,len(classification.feature_count_)):\n",
    "        for j in range(0,len(classification.feature_count_[i])):\n",
    "            if classification.feature_count_[i][j] == 1:\n",
    "                nb_1 = nb_1 + 1 \n",
    "    perc_1 = (nb_1/total_wt)*100  \n",
    "    Write(\"\\nNumber of words with frequency 1 in the entire corpus: \" + str(nb_1) + \"\\nPercentage: \" + str(perc_1) + \"%\")    \n",
    "\n",
    "    woman_index = vectorizer.get_feature_names().index(\"woman\")\n",
    "    man_index = vectorizer.get_feature_names().index(\"man\")\n",
    "    i = 0\n",
    "    log_prob_woman = 0\n",
    "    log_prob_man = 0\n",
    "    weighted_log_prob_woman = 0\n",
    "    weighted_log_prob_man = 0\n",
    "    for key, value in class_dict.items():\n",
    "        prior_prob = value/total_size\n",
    "        log_prob_woman = classification.feature_log_prob_[i][woman_index]\n",
    "        log_prob_man = classification.feature_log_prob_[i][man_index]\n",
    "        i = i + 1\n",
    "        weighted_log_prob_woman = weighted_log_prob_woman + (log_prob_woman * prior_prob)\n",
    "        weighted_log_prob_man = weighted_log_prob_man + (log_prob_man * prior_prob)\n",
    "    Write(\"\\n k) \\n2 selected favorite words: woman and man. \\nLog-prob of woman: \" + str(weighted_log_prob_woman) + \"\\nLog-prob of man: \" + str(weighted_log_prob_man))\n",
    "    \n",
    "Test(1, x_train, x_test, y_train, y_test, 0)\n",
    "Test(2, x_train, x_test, y_train, y_test, 0)\n",
    "Test(3, x_train, x_test, y_train, y_test, 0.0001)\n",
    "Test(4, x_train, x_test, y_train, y_test, 0.9)\n",
    "result_file.close()\n",
    "    "
   ]
  }
 ],
 "metadata": {
  "interpreter": {
   "hash": "7e1d7ef97767342f76cd68dd7fe371509249fe149e1988b82e6373875a9df1cb"
  },
  "kernelspec": {
   "display_name": "Python 3.8.8 64-bit ('base': conda)",
   "name": "python3"
  },
  "language_info": {
   "codemirror_mode": {
    "name": "ipython",
    "version": 3
   },
   "file_extension": ".py",
   "mimetype": "text/x-python",
   "name": "python",
   "nbconvert_exporter": "python",
   "pygments_lexer": "ipython3",
   "version": "3.8.8"
  },
  "orig_nbformat": 4
 },
 "nbformat": 4,
 "nbformat_minor": 2
}
