{
 "cells": [
  {
   "cell_type": "code",
   "execution_count": 178,
   "metadata": {},
   "outputs": [
    {
     "data": {
      "image/png": "[encoded data removed]",
      "text/plain": [
       "<Figure size 432x288 with 1 Axes>"
      ]
     },
     "metadata": {
      "needs_background": "light"
     },
     "output_type": "display_data"
    }
   ],
   "source": [
    "import pandas as pd\n",
    "import numpy as np\n",
    "import matplotlib.pyplot as plt\n",
    "from sklearn.preprocessing import LabelEncoder\n",
    "from sklearn.model_selection import train_test_split\n",
    "from sklearn.naive_bayes import GaussianNB\n",
    "from sklearn.tree import DecisionTreeClassifier\n",
    "from sklearn import metrics\n",
    "performanceFile = open('drugs-performance.txt', \"a\")\n",
    "\n",
    "\n",
    "def printPerformance(actual, predicted, classifier):\n",
    "    confusionMatrix = metrics.confusion_matrix(actual,predicted,labels=['drugA','drugB','drugC','drugX','drugY'])\n",
    "    accuracy = metrics.accuracy_score(actual,predicted)\n",
    "    macroF1 = metrics.f1_score(actual,predicted,labels=['drugA','drugB','drugC','drugX','drugY'],average=\"macro\")\n",
    "    weightedF1 = metrics.f1_score(actual,predicted,labels=['drugA','drugB','drugC','drugX','drugY'],average=\"weighted\")\n",
    "    TP = np.diagonal(confusionMatrix)\n",
    "    FP = np.sum(confusionMatrix,axis=0) - TP\n",
    "    FN = np.sum(confusionMatrix,axis=1) - TP\n",
    "\n",
    "    TN = []\n",
    "    for i in range(5):\n",
    "        temp = np.delete(confusionMatrix,i,0)\n",
    "        temp = np.delete(temp,i,1)\n",
    "        TN.append(sum(sum(temp)))\n",
    "\n",
    "    precision = np.round_(TP/(TP+FP),2)\n",
    "    recall =  np.round_(TP/(TP+FN))\n",
    "    F1 = np.round_(2 * (precision * recall) / (precision + recall),2)\n",
    "\n",
    "    performanceFile.writelines([\n",
    "        '----------------------------------------------\\n',\n",
    "        classifier + '\\n',\n",
    "        '----------------------------------------------\\n',\n",
    "        'ConfusionMatrix:\\n\\n',\n",
    "        str(confusionMatrix) + '\\n\\n',\n",
    "        'DrugA => Precision=' + str(precision[0]) + ', Recall=' + str(recall[0]) + ', F1=' + str(F1[0]),\n",
    "        '\\nDrugB => Precision=' + str(precision[1]) + ', Recall=' + str(recall[1]) + ', F1=' + str(F1[1]),\n",
    "        '\\nDrugC => Precision=' + str(precision[2]) + ', Recall=' + str(recall[2]) + ', F1=' + str(F1[2]),\n",
    "        '\\nDrugX => Precision=' + str(precision[3]) + ', Recall=' + str(recall[3]) + ', F1=' + str(F1[3]),\n",
    "        '\\nDrugY => Precision=' + str(precision[4]) + ', Recall=' + str(recall[4]) + ', F1=' + str(F1[4]) + '\\n\\n',\n",
    "        'Accuracy=' + str(accuracy) + '\\n',\n",
    "        'Macro-average F1=' + str(round(macroF1,2)) + '\\n',\n",
    "        'Weighted-average F1=' + str(round(weightedF1,2)),\n",
    "        '\\n'\n",
    "        ])\n",
    "\n",
    "# Retrieving data and creating distribution figure\n",
    "df = pd.read_csv('./drug200.csv')\n",
    "axes = df.Drug.value_counts().plot(kind='bar', title='Drug distribution')\n",
    "axes.set_xlabel(\"Drug\")\n",
    "axes.set_ylabel(\"Nb Instances\")\n",
    "plt.savefig('drug-distribution.pdf')\n",
    "\n",
    "# Converting to numerical\n",
    "le = LabelEncoder()\n",
    "df.Sex = le.fit_transform(df.Sex)\n",
    "df.BP = le.fit_transform(df.BP)\n",
    "df.Cholesterol = le.fit_transform(df.Cholesterol)\n",
    "y = df.pop('Drug')\n",
    "\n",
    "# Splitting dataset\n",
    "X_train, X_test, y_train, y_test = train_test_split(df, y)\n",
    "\n",
    "# Gaussian Naive Bayes run\n",
    "gnb = GaussianNB()\n",
    "gnb.fit(X_train, y_train)\n",
    "y_predicted = gnb.predict(X_test)\n",
    "printPerformance(y_test, y_predicted, 'a) Gaussian Naive Bayes')\n",
    "\n",
    "# Base Decision Tree\n",
    "dt = DecisionTreeClassifier()\n",
    "dt.fit(X_train, y_train)\n",
    "y_predicted = dt.predict(X_test)\n",
    "printPerformance(y_test, y_predicted, 'b) Base Decision Tree')\n",
    "\n",
    "performanceFile.close()"
   ]
  }
 ],
 "metadata": {
  "interpreter": {
   "hash": "352256341ae3f9f1b4b53034392507cd43975cbcdea81e7ce2833d74b563c181"
  },
  "kernelspec": {
   "display_name": "Python 3.8.8 64-bit ('base': conda)",
   "name": "python3"
  },
  "language_info": {
   "codemirror_mode": {
    "name": "ipython",
    "version": 3
   },
   "file_extension": ".py",
   "mimetype": "text/x-python",
   "name": "python",
   "nbconvert_exporter": "python",
   "pygments_lexer": "ipython3",
   "version": "3.8.8"
  },
  "orig_nbformat": 4
 },
 "nbformat": 4,
 "nbformat_minor": 2
}
