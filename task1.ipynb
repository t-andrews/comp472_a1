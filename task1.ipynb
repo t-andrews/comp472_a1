{
 "cells": [
  {
   "cell_type": "code",
   "execution_count": null,
   "metadata": {},
   "outputs": [],
   "source": [
    "DATA_DIR = \"./BBC/\""
   ]
  },
  {
   "cell_type": "code",
   "execution_count": null,
   "metadata": {},
   "outputs": [],
   "source": [
    "%matplotlib inline\n",
    "import numpy as np\n",
    "import pandas as pd\n",
    "import matplotlib.pyplot as plt\n",
    "import sys\n",
    "from sklearn.datasets import load_files\n",
    "from sklearn.feature_extraction.text import CountVectorizer\n",
    "from sklearn.model_selection import train_test_split\n",
    "from sklearn.naive_bayes import MultinomialNB"
   ]
  },
  {
   "cell_type": "code",
   "execution_count": null,
   "metadata": {},
   "outputs": [],
   "source": [
    "data = load_files(DATA_DIR, encoding=\"latin1\", decode_error=\"replace\")"
   ]
  },
  {
   "cell_type": "code",
   "execution_count": null,
   "metadata": {},
   "outputs": [],
   "source": [
    "labels, counts = np.unique(data.target, return_counts=True)\n",
    "class_dict = dict(zip(np.array(data.target_names)[labels], counts))\n",
    "\n",
    "plt.title(\"Distribution of BBC Dataset\")\n",
    "plt.xlabel(\"classes\")\n",
    "plt.ylabel(\"number of instances\")\n",
    "plt.bar([1,2,3,4,5], counts)\n",
    "\n",
    "plt.savefig(\"BBC-distribution.pdf\")"
   ]
  },
  {
   "cell_type": "code",
   "execution_count": null,
   "metadata": {},
   "outputs": [],
   "source": [
    "vectorizer = CountVectorizer(stop_words=\"english\", decode_error=\"ignore\")\n",
    "term_matrix = vectorizer.fit_transform(data[\"data\"])\n",
    "term_array = term_matrix.toarray()\n",
    "\n",
    "df = pd.DataFrame(data=term_array, columns=vectorizer.get_feature_names_out())\n",
    "print(df)\n"
   ]
  },
  {
   "cell_type": "code",
   "execution_count": null,
   "metadata": {},
   "outputs": [],
   "source": [
    "x_train, x_test, y_train, y_test = train_test_split(data.data, data.target, train_size=0.8, test_size=0.2, random_state=None)"
   ]
  },
  {
   "cell_type": "code",
   "execution_count": null,
   "metadata": {},
   "outputs": [],
   "source": [
    "def Write(text):\n",
    "    try:\n",
    "        with open(r\"bbc-performance.txt\", \"a\") as result_file:\n",
    "            result_file.write(text)\n",
    "    except Exception as e:\n",
    "        print(\"ERROR occurred when writing to file.\")\n",
    "        print(e)\n",
    "        sys.exit()\n",
    "\n",
    "#def Test(test_num, x_train, x_test, y_train, y_test, smoothing=None)\n"
   ]
  }
 ],
 "metadata": {
  "interpreter": {
   "hash": "fe44fef87f92f48a3a32707d0df204585f471652bc0ce87358a3ce712bc24db0"
  },
  "kernelspec": {
   "display_name": "Python 3.9.7 64-bit",
   "name": "python3"
  },
  "language_info": {
   "codemirror_mode": {
    "name": "ipython",
    "version": 3
   },
   "file_extension": ".py",
   "mimetype": "text/x-python",
   "name": "python",
   "nbconvert_exporter": "python",
   "pygments_lexer": "ipython3",
   "version": "3.9.7"
  },
  "orig_nbformat": 4
 },
 "nbformat": 4,
 "nbformat_minor": 2
}
